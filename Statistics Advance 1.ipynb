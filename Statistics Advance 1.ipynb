{
  "nbformat": 4,
  "nbformat_minor": 0,
  "metadata": {
    "colab": {
      "provenance": []
    },
    "kernelspec": {
      "name": "python3",
      "display_name": "Python 3"
    },
    "language_info": {
      "name": "python"
    }
  },
  "cells": [
    {
      "cell_type": "markdown",
      "source": [
        "## Statistics advance"
      ],
      "metadata": {
        "id": "iWViUQIUKNtD"
      }
    },
    {
      "cell_type": "markdown",
      "source": [
        "1. What is a random variable in probability theory?\n",
        " Random variable is a set of possible values from random experiment.\n",
        "\n",
        "2. What are the types of random variables?\n",
        " Their are two types of random vareable Descrete and contineous.\n",
        "\n",
        "3. What is the difference between discrete and continuous distributions?\n",
        " A contineous uniform probability distribution is a distribution in a specified range/bond.\n",
        " In a discrete distribution the out comes are discrete and have the same probability.\n",
        "\n",
        "4. What are probability distribution functions (PDF)?\n",
        " Drawn outcome in a form of distribution is called PDF.\n",
        "\n",
        "5. How do cumulative distribution functions (CDF) differ from probability distribution functions (PDF)?\n",
        " CDF is summation of all probabilities possible upto a given point.\n",
        "\n",
        "6. What is a discrete uniform distribution?\n",
        "   In a discrete distribution the out comes are discrete and have the same probability.\n",
        "\n",
        "7. What are the key properties of a Bernoulli distribution?\n",
        "A Bernoulli distribution modles a random experment with two possible outcomes, typically labeled as success(1) and failure (0).\n",
        "\n",
        "8. What is the binomial distribution, and how is it used in probability?\n",
        "Binomial distribution is the 'n' Bernoulli trial.\n",
        "\n",
        "9. What is the Poisson distribution and where is it applied?\n",
        " The poisson distribution is a discrete probability distribution that occur with in a fixed interval of time  or space given a known average rate of occurence.\n",
        "\n",
        "10. What is a continuous uniform distribution?\n",
        "A contineous uniform probability distribution is a distribution that has infinite no of values defined in a secified range/bound\n",
        "\n",
        "11. What are the characteristics of a normal distribution?\n",
        "A continuos probability distribution is called normal distribution.\n",
        "\n",
        "12. What is the standard normal distribution, and why is it important?\n",
        "SND is a continuos probability ditribution it is required for the faster computation.\n",
        "\n",
        "13. What is the Central Limit Theorem (CLT), and why is it critical in statistics?\n",
        "The CLT means sampling distribution of mean.\n",
        "\n",
        "14. How does the Central Limit Theorem relate to the normal distribution?\n",
        "The CLT states that if you have  apopulation with a mean and standard deviation and take sufficiently large no of random samples from the population with replacement, then the distribution of sample means will be approximately normally distribution.\n",
        "\n",
        "15. What is the application of Z statistics in hypothesis testing?\n",
        "Z testing determine if there is a significant difference between a sample's mean, or between the means of two independent samples.\n",
        "\n",
        "16.  How do you calculate a Z-score, and what does it represent?\n",
        "Z = (data - mean)/ SD\n",
        "\n",
        "17. What are point estimates and interval estimates in statistics?\n",
        "two fundamental ways to estimate unknown population parameters using sample data.\n",
        "18. What is the significance of confidence intervals in statistical analysis?\n",
        "provide a range of plausible values for an unknown population parameter, offering a more informative measure of uncertainty than a single point estimate.\n",
        "\n",
        "19. What is the relationship between a Z-score and a confidence interval?\n",
        "A higher Z-score corresponds to a wider confidence interval, reflecting a greater level of confidence in capturing the true population parameter.\n",
        "\n",
        "20. How are Z-scores used to compare different distributions?\n",
        "A z-score represents how many standard deviations a data point is from the mean of its distribution.\n",
        "\n",
        "21. What are the assumptions for applying the Central Limit Theorem?\n",
        "random sampling, independence of samples, and a sufficiently large sample size.\n",
        "\n",
        "22. What is the concept of expected value in a probability distribution?\n",
        "The expected value in a probability distribution represents the long-run average outcome of a random variable.\n",
        "\n",
        "23. The expected value in a probability distribution represents the long-run average outcome of a random variable?\n",
        "The expected value in a probability distribution represents the long-run average outcome of a random variable."
      ],
      "metadata": {
        "id": "mGEuSStOKTR1"
      }
    },
    {
      "cell_type": "code",
      "execution_count": null,
      "metadata": {
        "id": "15mMJyavKHzz"
      },
      "outputs": [],
      "source": []
    }
  ]
}